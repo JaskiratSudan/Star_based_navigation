{
 "cells": [
  {
   "cell_type": "markdown",
   "id": "e9343f03",
   "metadata": {},
   "source": [
    "# Star Based Navigation "
   ]
  },
  {
   "cell_type": "markdown",
   "id": "6c0c6445",
   "metadata": {},
   "source": [
    "We are trying to develop a system which can tell the latitude and longitude of a place just with an image of the sky visible from there at a perticular time"
   ]
  },
  {
   "cell_type": "markdown",
   "id": "2c6ec59d",
   "metadata": {},
   "source": [
    "### Process"
   ]
  },
  {
   "cell_type": "markdown",
   "id": "6ce6a416",
   "metadata": {},
   "source": [
    "1. Capture an image of the sky and note the time of capture.\n",
    "2. Match that image from the sky serveys."
   ]
  },
  {
   "cell_type": "markdown",
   "id": "d57f76ff",
   "metadata": {},
   "source": [
    "## Solution:"
   ]
  },
  {
   "cell_type": "markdown",
   "id": "c869c290",
   "metadata": {},
   "source": [
    "We can use CNN to find the pattern, matching with the stars in the image."
   ]
  },
  {
   "cell_type": "markdown",
   "id": "288cff4f",
   "metadata": {},
   "source": [
    "1. We need to take all the brightest objects in the sky (mostly stars), and plot them on an equitorial plot to make a virtual sky.\n",
    "2. This virtual sky should be made such that we can crop, zoom  and rotate this plot.\n",
    "3. Now we take the images along with the time of capture feed into CNN to match them in the sky plot.\n",
    "4. By matching these images to the sky plot we can find our latitude and longitude to navigate."
   ]
  }
 ],
 "metadata": {
  "kernelspec": {
   "display_name": "Python 3 (ipykernel)",
   "language": "python",
   "name": "python3"
  },
  "language_info": {
   "codemirror_mode": {
    "name": "ipython",
    "version": 3
   },
   "file_extension": ".py",
   "mimetype": "text/x-python",
   "name": "python",
   "nbconvert_exporter": "python",
   "pygments_lexer": "ipython3",
   "version": "3.10.6"
  }
 },
 "nbformat": 4,
 "nbformat_minor": 5
}
