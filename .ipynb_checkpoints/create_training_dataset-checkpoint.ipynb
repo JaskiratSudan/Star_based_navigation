{
 "cells": [
  {
   "cell_type": "markdown",
   "id": "602559e9",
   "metadata": {
    "id": "602559e9"
   },
   "source": [
    "### Crop Image into small chunks"
   ]
  },
  {
   "cell_type": "code",
   "execution_count": 1,
   "id": "4sKy2ChKLIrq",
   "metadata": {
    "colab": {
     "base_uri": "https://localhost:8080/"
    },
    "executionInfo": {
     "elapsed": 5914,
     "status": "ok",
     "timestamp": 1671282519129,
     "user": {
      "displayName": "JASKIRAT SUDAN",
      "userId": "05420150367515242034"
     },
     "user_tz": -330
    },
    "id": "4sKy2ChKLIrq",
    "outputId": "d36dcbf5-6152-4cef-df20-4da35a8678bc"
   },
   "outputs": [],
   "source": [
    "# from google.colab import drive\n",
    "# drive.mount('/content/drive')"
   ]
  },
  {
   "cell_type": "code",
   "execution_count": 2,
   "id": "L5agCUTpL15g",
   "metadata": {
    "colab": {
     "base_uri": "https://localhost:8080/"
    },
    "executionInfo": {
     "elapsed": 14,
     "status": "ok",
     "timestamp": 1671282519130,
     "user": {
      "displayName": "JASKIRAT SUDAN",
      "userId": "05420150367515242034"
     },
     "user_tz": -330
    },
    "id": "L5agCUTpL15g",
    "outputId": "d941120e-105d-4fff-f0cc-fd0c910f093f"
   },
   "outputs": [],
   "source": [
    "# %cd drive/MyDrive/Code/Astronomy/Star_based_navigation"
   ]
  },
  {
   "cell_type": "code",
   "execution_count": 3,
   "id": "0ee5e76b",
   "metadata": {
    "executionInfo": {
     "elapsed": 8,
     "status": "ok",
     "timestamp": 1671282519130,
     "user": {
      "displayName": "JASKIRAT SUDAN",
      "userId": "05420150367515242034"
     },
     "user_tz": -330
    },
    "id": "0ee5e76b"
   },
   "outputs": [],
   "source": [
    "import numpy as np\n",
    "import matplotlib.pyplot as plt\n",
    "from skimage import draw\n",
    "import random\n",
    "import pandas as pd\n",
    "from PIL import Image\n",
    "import csv\n",
    "import sys"
   ]
  },
  {
   "cell_type": "code",
   "execution_count": 11,
   "id": "f1b36ba4",
   "metadata": {
    "executionInfo": {
     "elapsed": 8,
     "status": "ok",
     "timestamp": 1671282519130,
     "user": {
      "displayName": "JASKIRAT SUDAN",
      "userId": "05420150367515242034"
     },
     "user_tz": -330
    },
    "id": "f1b36ba4"
   },
   "outputs": [],
   "source": [
    "def extract_sq(arr, n, side):\n",
    "\n",
    "    arr_shape = arr.shape\n",
    "    num = 0\n",
    "    for i in range(n):\n",
    "        x = random.randint(side/2, arr_shape[0]-side/2)\n",
    "        y = random.randint(side/2, arr_shape[1]-side/2)\n",
    "    \n",
    "        square = arr[int(y-(side/2)) : int(y-(side/2))+side, int(x-(side/2)) : int(x-(side/2))+side]\n",
    "        \n",
    "        image_name = \"Dataset/Train/s{}_({},{}).jpg\".format(side, x,y)\n",
    "        plt.imsave(image_name, square, cmap=\"gray\")\n",
    "        num+=1\n",
    "    \n",
    "    print(\"Saved {} images under Dataset/Train\".format(num))"
   ]
  },
  {
   "cell_type": "code",
   "execution_count": 5,
   "id": "e4ce4229",
   "metadata": {
    "executionInfo": {
     "elapsed": 8,
     "status": "ok",
     "timestamp": 1671282519131,
     "user": {
      "displayName": "JASKIRAT SUDAN",
      "userId": "05420150367515242034"
     },
     "user_tz": -330
    },
    "id": "e4ce4229"
   },
   "outputs": [],
   "source": [
    "def extract_sq_csv(arr, n, side):\n",
    "    \n",
    "    arr = arr[:,:,0]\n",
    "    \n",
    "    csv_data = []\n",
    "    arr_shape = arr.shape\n",
    "    \n",
    "    for i in range(n):\n",
    "        img_det = None\n",
    "        x = random.randint(side/2, arr_shape[0]-side/2)\n",
    "        y = random.randint(side/2, arr_shape[1]-side/2)\n",
    "    \n",
    "        square = arr[int(x-side/2) : int(x+side/2), int(y-side/2) : int(y+side/2)]\n",
    "        img_det = np.array([x,y,square.flatten()], dtype=object)\n",
    "        csv_data.append(img_det)\n",
    "  \n",
    "    csv_data = np.asarray(csv_data)\n",
    "    csv_name = \"Dataset/Train/s{}_train.csv\".format(side)\n",
    "    \n",
    "    with np.printoptions(threshold=np.inf):\n",
    "        np.savetxt(csv_name, csv_data, delimiter=',')\n",
    "    \n",
    "    return csv_data\n",
    "    print(\"CSV file saved Successfully\")"
   ]
  },
  {
   "cell_type": "code",
   "execution_count": 6,
   "id": "46377e12",
   "metadata": {
    "colab": {
     "base_uri": "https://localhost:8080/"
    },
    "executionInfo": {
     "elapsed": 2267,
     "status": "ok",
     "timestamp": 1671282521391,
     "user": {
      "displayName": "JASKIRAT SUDAN",
      "userId": "05420150367515242034"
     },
     "user_tz": -330
    },
    "id": "46377e12",
    "outputId": "c15803a4-a1e8-421f-e688-7f0e03100930"
   },
   "outputs": [
    {
     "data": {
      "text/plain": [
       "(400, 400, 3)"
      ]
     },
     "execution_count": 6,
     "metadata": {},
     "output_type": "execute_result"
    }
   ],
   "source": [
    "img = Image.open(\"gussian_conv.jpg\")\n",
    "img_arr = np.asarray(img)\n",
    "img_arr.shape"
   ]
  },
  {
   "cell_type": "markdown",
   "id": "20130c2a",
   "metadata": {
    "id": "20130c2a"
   },
   "source": [
    "### Enter number of croped images and side of the croped image"
   ]
  },
  {
   "cell_type": "code",
   "execution_count": 7,
   "id": "cbf2e97b",
   "metadata": {
    "colab": {
     "base_uri": "https://localhost:8080/"
    },
    "executionInfo": {
     "elapsed": 79806,
     "status": "ok",
     "timestamp": 1671282601192,
     "user": {
      "displayName": "JASKIRAT SUDAN",
      "userId": "05420150367515242034"
     },
     "user_tz": -330
    },
    "id": "cbf2e97b",
    "outputId": "4e385273-50d4-45e6-bf00-8ad2a7555901",
    "scrolled": false
   },
   "outputs": [
    {
     "name": "stdout",
     "output_type": "stream",
     "text": [
      "Saved 30000 images under Dataset/Train\n"
     ]
    }
   ],
   "source": [
    "extract_sq(img_arr, 3*10**4, 64)"
   ]
  },
  {
   "cell_type": "code",
   "execution_count": 8,
   "id": "84855e0d",
   "metadata": {
    "executionInfo": {
     "elapsed": 10,
     "status": "ok",
     "timestamp": 1671282601193,
     "user": {
      "displayName": "JASKIRAT SUDAN",
      "userId": "05420150367515242034"
     },
     "user_tz": -330
    },
    "id": "84855e0d"
   },
   "outputs": [],
   "source": [
    "# data = extract_sq_csv(img_arr, 10**2, 200)"
   ]
  },
  {
   "cell_type": "code",
   "execution_count": 9,
   "id": "50e6736c",
   "metadata": {
    "executionInfo": {
     "elapsed": 8,
     "status": "ok",
     "timestamp": 1671282601193,
     "user": {
      "displayName": "JASKIRAT SUDAN",
      "userId": "05420150367515242034"
     },
     "user_tz": -330
    },
    "id": "50e6736c"
   },
   "outputs": [],
   "source": [
    "# data = data[:,:,:,:1].reshape(40,200,200)\n",
    "# data.shape"
   ]
  },
  {
   "cell_type": "code",
   "execution_count": 10,
   "id": "c024c8a1",
   "metadata": {
    "executionInfo": {
     "elapsed": 7,
     "status": "ok",
     "timestamp": 1671282601193,
     "user": {
      "displayName": "JASKIRAT SUDAN",
      "userId": "05420150367515242034"
     },
     "user_tz": -330
    },
    "id": "c024c8a1",
    "scrolled": false
   },
   "outputs": [],
   "source": [
    "# plt.imshow(data[10][2].reshape((200,200)))"
   ]
  }
 ],
 "metadata": {
  "colab": {
   "provenance": []
  },
  "kernelspec": {
   "display_name": "Python 3 (ipykernel)",
   "language": "python",
   "name": "python3"
  },
  "language_info": {
   "codemirror_mode": {
    "name": "ipython",
    "version": 3
   },
   "file_extension": ".py",
   "mimetype": "text/x-python",
   "name": "python",
   "nbconvert_exporter": "python",
   "pygments_lexer": "ipython3",
   "version": "3.10.6"
  }
 },
 "nbformat": 4,
 "nbformat_minor": 5
}
