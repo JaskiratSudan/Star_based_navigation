{
 "cells": [
  {
   "cell_type": "code",
   "execution_count": 1,
   "id": "7ea4edf7",
   "metadata": {
    "executionInfo": {
     "elapsed": 3,
     "status": "ok",
     "timestamp": 1668003093163,
     "user": {
      "displayName": "JASKIRAT SUDAN",
      "userId": "05420150367515242034"
     },
     "user_tz": -330
    },
    "id": "7ea4edf7",
    "scrolled": false
   },
   "outputs": [
    {
     "name": "stderr",
     "output_type": "stream",
     "text": [
      "2022-12-25 18:39:19.964402: I tensorflow/core/util/util.cc:169] oneDNN custom operations are on. You may see slightly different numerical results due to floating-point round-off errors from different computation orders. To turn them off, set the environment variable `TF_ENABLE_ONEDNN_OPTS=0`.\n",
      "2022-12-25 18:39:20.009318: W tensorflow/stream_executor/platform/default/dso_loader.cc:64] Could not load dynamic library 'libcudart.so.11.0'; dlerror: libcudart.so.11.0: cannot open shared object file: No such file or directory\n",
      "2022-12-25 18:39:20.009351: I tensorflow/stream_executor/cuda/cudart_stub.cc:29] Ignore above cudart dlerror if you do not have a GPU set up on your machine.\n"
     ]
    }
   ],
   "source": [
    "import keras.backend as K\n",
    "import numpy as np\n",
    "from keras import Input, layers\n",
    "from keras.models import Model\n",
    "import tensorflow as tf\n",
    "from tensorflow import keras\n",
    "import matplotlib.pyplot as plt\n",
    "from PIL import Image"
   ]
  },
  {
   "cell_type": "code",
   "execution_count": 2,
   "id": "utshSmkuud0E",
   "metadata": {
    "colab": {
     "base_uri": "https://localhost:8080/"
    },
    "executionInfo": {
     "elapsed": 2030,
     "status": "ok",
     "timestamp": 1668003048363,
     "user": {
      "displayName": "JASKIRAT SUDAN",
      "userId": "05420150367515242034"
     },
     "user_tz": -330
    },
    "id": "utshSmkuud0E",
    "outputId": "9c2a1aaa-4eee-4c3d-a091-6092c283e5a8"
   },
   "outputs": [],
   "source": [
    "(X_train, y_train) , (X_test, y_test) = keras.datasets.mnist.load_data()"
   ]
  },
  {
   "cell_type": "code",
   "execution_count": 53,
   "id": "a4OottH4uqr7",
   "metadata": {
    "colab": {
     "base_uri": "https://localhost:8080/",
     "height": 282
    },
    "executionInfo": {
     "elapsed": 815,
     "status": "ok",
     "timestamp": 1668003121113,
     "user": {
      "displayName": "JASKIRAT SUDAN",
      "userId": "05420150367515242034"
     },
     "user_tz": -330
    },
    "id": "a4OottH4uqr7",
    "outputId": "4fe5e132-167a-4c27-e7bc-5eb1ae39c0dc"
   },
   "outputs": [
    {
     "data": {
      "text/plain": [
       "<matplotlib.image.AxesImage at 0x7f05433d7130>"
      ]
     },
     "execution_count": 53,
     "metadata": {},
     "output_type": "execute_result"
    },
    {
     "data": {
      "image/png": "[encoded data removed]",
      "text/plain": [
       "<Figure size 640x480 with 1 Axes>"
      ]
     },
     "metadata": {},
     "output_type": "display_data"
    }
   ],
   "source": [
    "plt.imshow(X_train[7])"
   ]
  },
  {
   "cell_type": "code",
   "execution_count": null,
   "id": "e3bd411b",
   "metadata": {},
   "outputs": [],
   "source": []
  },
  {
   "cell_type": "code",
   "execution_count": 46,
   "id": "c355bd02",
   "metadata": {
    "executionInfo": {
     "elapsed": 5,
     "status": "ok",
     "timestamp": 1668002742650,
     "user": {
      "displayName": "JASKIRAT SUDAN",
      "userId": "05420150367515242034"
     },
     "user_tz": -330
    },
    "id": "c355bd02"
   },
   "outputs": [],
   "source": [
    "# custom filter\n",
    "def my_filter(shape, dtype=None):\n",
    "\n",
    "    f = np.array([\n",
    "            [[[255]], [[255]], [[255]]],\n",
    "            [[[0]], [[0]], [[0]]],\n",
    "            [[[0]], [[0]], [[0]]]\n",
    "        ])\n",
    "    assert f.shape == shape\n",
    "    return K.variable(f, dtype='float32')"
   ]
  },
  {
   "cell_type": "code",
   "execution_count": 54,
   "id": "g_eWti7Dtfnr",
   "metadata": {
    "executionInfo": {
     "elapsed": 6,
     "status": "ok",
     "timestamp": 1668002773991,
     "user": {
      "displayName": "JASKIRAT SUDAN",
      "userId": "05420150367515242034"
     },
     "user_tz": -330
    },
    "id": "g_eWti7Dtfnr"
   },
   "outputs": [
    {
     "name": "stdout",
     "output_type": "stream",
     "text": [
      "(28, 28)\n"
     ]
    }
   ],
   "source": [
    "input_mat = X_train[7]\n",
    "\n",
    "# we need to give the batch size. \n",
    "# here we will just add a dimension at the beginning which makes batch size=1\n",
    "print(input_mat.shape)\n",
    "input_mat = input_mat.reshape((1, 28, 28, 1))"
   ]
  },
  {
   "cell_type": "code",
   "execution_count": 55,
   "id": "-KjpwRhYtnby",
   "metadata": {
    "executionInfo": {
     "elapsed": 554,
     "status": "ok",
     "timestamp": 1668002789129,
     "user": {
      "displayName": "JASKIRAT SUDAN",
      "userId": "05420150367515242034"
     },
     "user_tz": -330
    },
    "id": "-KjpwRhYtnby"
   },
   "outputs": [],
   "source": [
    "def build_model():\n",
    "    input_tensor = Input(shape=(28,28,1))\n",
    "\n",
    "    x = layers.Conv2D(filters=1, \n",
    "                      kernel_size = 3,\n",
    "                      kernel_initializer=my_filter,\n",
    "                      strides=2, \n",
    "                      padding='valid') (input_tensor)\n",
    "\n",
    "    model = Model(inputs=input_tensor, outputs=x)\n",
    "    return model"
   ]
  },
  {
   "cell_type": "code",
   "execution_count": 56,
   "id": "2UARO5gYtq61",
   "metadata": {
    "colab": {
     "base_uri": "https://localhost:8080/"
    },
    "executionInfo": {
     "elapsed": 1877,
     "status": "ok",
     "timestamp": 1668002818452,
     "user": {
      "displayName": "JASKIRAT SUDAN",
      "userId": "05420150367515242034"
     },
     "user_tz": -330
    },
    "id": "2UARO5gYtq61",
    "outputId": "e8283fd1-78c3-494c-e1e7-ad54eb3e4713"
   },
   "outputs": [
    {
     "name": "stdout",
     "output_type": "stream",
     "text": [
      "1/1 [==============================] - 0s 31ms/step\n",
      "(1, 13, 13, 1)\n"
     ]
    },
    {
     "data": {
      "text/plain": [
       "<matplotlib.image.AxesImage at 0x7f0543280a30>"
      ]
     },
     "execution_count": 56,
     "metadata": {},
     "output_type": "execute_result"
    },
    {
     "data": {
      "image/png": "[encoded data removed]",
      "text/plain": [
       "<Figure size 640x480 with 1 Axes>"
      ]
     },
     "metadata": {},
     "output_type": "display_data"
    }
   ],
   "source": [
    "model = build_model()\n",
    "out = model.predict(input_mat)\n",
    "print(out.shape)\n",
    "output = out.reshape((13,13))\n",
    "plt.imshow(output)"
   ]
  },
  {
   "cell_type": "code",
   "execution_count": null,
   "id": "9mLP_iAmtx6P",
   "metadata": {
    "id": "9mLP_iAmtx6P"
   },
   "outputs": [],
   "source": []
  }
 ],
 "metadata": {
  "colab": {
   "provenance": []
  },
  "kernelspec": {
   "display_name": "Python 3 (ipykernel)",
   "language": "python",
   "name": "python3"
  },
  "language_info": {
   "codemirror_mode": {
    "name": "ipython",
    "version": 3
   },
   "file_extension": ".py",
   "mimetype": "text/x-python",
   "name": "python",
   "nbconvert_exporter": "python",
   "pygments_lexer": "ipython3",
   "version": "3.10.6"
  }
 },
 "nbformat": 4,
 "nbformat_minor": 5
}
