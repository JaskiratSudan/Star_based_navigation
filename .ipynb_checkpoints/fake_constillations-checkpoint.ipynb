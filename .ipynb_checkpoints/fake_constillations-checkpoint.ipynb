{
 "cells": [
  {
   "cell_type": "markdown",
   "id": "d551f449",
   "metadata": {},
   "source": [
    "### Used to generate random dots in an image"
   ]
  },
  {
   "cell_type": "code",
   "execution_count": 1,
   "id": "cca597f2",
   "metadata": {},
   "outputs": [],
   "source": [
    "import numpy as np\n",
    "import matplotlib.pyplot as plt\n",
    "from skimage import draw\n",
    "import random"
   ]
  },
  {
   "cell_type": "code",
   "execution_count": 2,
   "id": "68a66d96",
   "metadata": {},
   "outputs": [],
   "source": [
    "def circle(arr, n, r):\n",
    "    arr_shape = arr.shape\n",
    "    for i in range(n):\n",
    "        x = random.randint(0,min(arr_shape)-r)\n",
    "        y = random.randint(0, max(arr_shape)-r)\n",
    "        \n",
    "        row, col = draw.disk((x,y), r)\n",
    "        arr[row,col] = 1\n",
    "        \n",
    "    return arr"
   ]
  },
  {
   "cell_type": "markdown",
   "id": "ffb84f53",
   "metadata": {},
   "source": [
    "### Enter Size of image below:"
   ]
  },
  {
   "cell_type": "code",
   "execution_count": 3,
   "id": "e8215fa7",
   "metadata": {},
   "outputs": [],
   "source": [
    "img = np.zeros((8*10**3,11*10**3)) # Dimension of the Image"
   ]
  },
  {
   "cell_type": "markdown",
   "id": "51a9c114",
   "metadata": {},
   "source": [
    "### Kernel may die......"
   ]
  },
  {
   "cell_type": "code",
   "execution_count": 4,
   "id": "f0508eb6",
   "metadata": {},
   "outputs": [],
   "source": [
    "star_img = circle(img, 2*10**4, 8)\n",
    "# plt.imshow(star_img, cmap=\"gray\")\n",
    "plt.imsave('imgh.jpg', star_img, cmap=\"gray\")"
   ]
  }
 ],
 "metadata": {
  "kernelspec": {
   "display_name": "Python 3 (ipykernel)",
   "language": "python",
   "name": "python3"
  },
  "language_info": {
   "codemirror_mode": {
    "name": "ipython",
    "version": 3
   },
   "file_extension": ".py",
   "mimetype": "text/x-python",
   "name": "python",
   "nbconvert_exporter": "python",
   "pygments_lexer": "ipython3",
   "version": "3.10.6"
  }
 },
 "nbformat": 4,
 "nbformat_minor": 5
}
