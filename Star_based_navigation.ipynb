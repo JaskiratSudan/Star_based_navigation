{
 "cells": [
  {
   "cell_type": "markdown",
   "id": "e9343f03",
   "metadata": {},
   "source": [
    "# Star Based Navigation "
   ]
  },
  {
   "cell_type": "markdown",
   "id": "6c0c6445",
   "metadata": {},
   "source": [
    "We are trying to develop a system which can tell the latitude and longitude of a place just with an image of the sky visible from there at a perticular time"
   ]
  },
  {
   "cell_type": "markdown",
   "id": "2c6ec59d",
   "metadata": {},
   "source": [
    "### Process"
   ]
  },
  {
   "cell_type": "markdown",
   "id": "6ce6a416",
   "metadata": {},
   "source": [
    "1. Capture an image of the sky and note the time of capture.\n",
    "2. Match that image from the sky serveys."
   ]
  },
  {
   "cell_type": "markdown",
   "id": "d57f76ff",
   "metadata": {},
   "source": [
    "## Solution:"
   ]
  },
  {
   "cell_type": "markdown",
   "id": "c869c290",
   "metadata": {},
   "source": [
    "We can use CNN to find the pattern, matching with the stars in the image."
   ]
  }
 ],
 "metadata": {
  "kernelspec": {
   "display_name": "Python 3 (ipykernel)",
   "language": "python",
   "name": "python3"
  },
  "language_info": {
   "codemirror_mode": {
    "name": "ipython",
    "version": 3
   },
   "file_extension": ".py",
   "mimetype": "text/x-python",
   "name": "python",
   "nbconvert_exporter": "python",
   "pygments_lexer": "ipython3",
   "version": "3.10.6"
  }
 },
 "nbformat": 4,
 "nbformat_minor": 5
}
