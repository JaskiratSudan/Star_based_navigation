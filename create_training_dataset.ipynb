{
 "cells": [
  {
   "cell_type": "markdown",
   "id": "602559e9",
   "metadata": {},
   "source": [
    "### Crop Image into small chunks"
   ]
  },
  {
   "cell_type": "code",
   "execution_count": 1,
   "id": "0ee5e76b",
   "metadata": {},
   "outputs": [],
   "source": [
    "import numpy as np\n",
    "import matplotlib.pyplot as plt\n",
    "from skimage import draw\n",
    "import random\n",
    "from PIL import Image"
   ]
  },
  {
   "cell_type": "code",
   "execution_count": 2,
   "id": "f1b36ba4",
   "metadata": {},
   "outputs": [],
   "source": [
    "def extract_sq(arr, n, side):\n",
    "\n",
    "    arr_shape = arr.shape\n",
    "    for i in range(n):\n",
    "        x = random.randint(side/2, arr_shape[0]-side/2)\n",
    "        y = random.randint(side/2, arr_shape[1]-side/2)\n",
    "    \n",
    "        square = arr[int(x-side/2) : int(x+side/2), int(y-side/2) : int(y+side/2)]\n",
    "        \n",
    "        image_name = \"Dataset/Train/s{}_({},{}).jpg\".format(side, x,y)\n",
    "        plt.imsave(image_name, square, cmap=\"gray\")\n",
    "    \n",
    "    print(\"Saved {} images under Dataset/Train\".format(n))"
   ]
  },
  {
   "cell_type": "code",
   "execution_count": 3,
   "id": "46377e12",
   "metadata": {},
   "outputs": [],
   "source": [
    "img = Image.open(\"imgh.jpg\")\n",
    "img_arr = np.asarray(img)"
   ]
  },
  {
   "cell_type": "markdown",
   "id": "20130c2a",
   "metadata": {},
   "source": [
    "### Enter number of croped images and side of the croped image"
   ]
  },
  {
   "cell_type": "code",
   "execution_count": 4,
   "id": "cbf2e97b",
   "metadata": {},
   "outputs": [
    {
     "name": "stdout",
     "output_type": "stream",
     "text": [
      "Saved 10 images under Dataset/Train\n"
     ]
    }
   ],
   "source": [
    "extract_sq(img_arr, 10, 200)"
   ]
  }
 ],
 "metadata": {
  "kernelspec": {
   "display_name": "Python 3 (ipykernel)",
   "language": "python",
   "name": "python3"
  },
  "language_info": {
   "codemirror_mode": {
    "name": "ipython",
    "version": 3
   },
   "file_extension": ".py",
   "mimetype": "text/x-python",
   "name": "python",
   "nbconvert_exporter": "python",
   "pygments_lexer": "ipython3",
   "version": "3.10.6"
  }
 },
 "nbformat": 4,
 "nbformat_minor": 5
}
